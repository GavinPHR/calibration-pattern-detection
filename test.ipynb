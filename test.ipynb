{
 "cells": [
  {
   "cell_type": "code",
   "execution_count": 40,
   "id": "d52cffcf",
   "metadata": {},
   "outputs": [
    {
     "name": "stdout",
     "output_type": "stream",
     "text": [
      "The autoreload extension is already loaded. To reload it, use:\n",
      "  %reload_ext autoreload\n"
     ]
    }
   ],
   "source": [
    "%load_ext autoreload\n",
    "%autoreload 2\n",
    "import utils\n",
    "from chessboard_detection import *\n",
    "import logging\n",
    "import sys"
   ]
  },
  {
   "cell_type": "code",
   "execution_count": 44,
   "id": "7b928139",
   "metadata": {},
   "outputs": [],
   "source": [
    "LOGGER = logging.getLogger('global_logger')\n",
    "LOGGER.setLevel(logging.INFO)\n",
    "LOGGER.addHandler(logging.StreamHandler(stream=sys.stdout))"
   ]
  },
  {
   "cell_type": "code",
   "execution_count": 46,
   "id": "0a42d530",
   "metadata": {},
   "outputs": [],
   "source": [
    "images = utils.read_images('chessboard_patterns/calibration-23.png')\n",
    "image = images[0]"
   ]
  },
  {
   "cell_type": "code",
   "execution_count": 99,
   "id": "24a29aec",
   "metadata": {},
   "outputs": [
    {
     "name": "stdout",
     "output_type": "stream",
     "text": [
      "Harris corner detector found 2078 corners\n"
     ]
    }
   ],
   "source": [
    "corners = harris_corner(image)"
   ]
  },
  {
   "cell_type": "code",
   "execution_count": 100,
   "id": "a671423e",
   "metadata": {},
   "outputs": [],
   "source": [
    "# utils.visualize_keypoints(image, corners)"
   ]
  },
  {
   "cell_type": "code",
   "execution_count": 101,
   "id": "0faeb0eb",
   "metadata": {},
   "outputs": [
    {
     "name": "stdout",
     "output_type": "stream",
     "text": [
      "Clutering filter: 2078->194 corners\n"
     ]
    }
   ],
   "source": [
    "corners = clustering_filter(corners)"
   ]
  },
  {
   "cell_type": "code",
   "execution_count": 102,
   "id": "aa06e060",
   "metadata": {},
   "outputs": [
    {
     "name": "stdout",
     "output_type": "stream",
     "text": [
      "Connected component filter: 194->87 corners\n"
     ]
    }
   ],
   "source": [
    "corners = connected_component_filter(corners)"
   ]
  },
  {
   "cell_type": "code",
   "execution_count": null,
   "id": "75b617aa",
   "metadata": {},
   "outputs": [],
   "source": []
  }
 ],
 "metadata": {
  "kernelspec": {
   "display_name": "Python 3",
   "language": "python",
   "name": "python3"
  },
  "language_info": {
   "codemirror_mode": {
    "name": "ipython",
    "version": 3
   },
   "file_extension": ".py",
   "mimetype": "text/x-python",
   "name": "python",
   "nbconvert_exporter": "python",
   "pygments_lexer": "ipython3",
   "version": "3.9.4"
  }
 },
 "nbformat": 4,
 "nbformat_minor": 5
}
